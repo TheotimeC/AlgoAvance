{
 "cells": [
  {
   "attachments": {},
   "cell_type": "markdown",
   "metadata": {},
   "source": [
    "## Algorithme génétique"
   ]
  },
  {
   "attachments": {},
   "cell_type": "markdown",
   "metadata": {},
   "source": [
    "Les algorithmes génétiques sont des techniques de recherche stochastiques (par l'effet du hasard), inspirées par l’évolution biologique des espèces.\n",
    "\n",
    "Dans notre cas, l'algorithme génétique est une méta-heuristique bien adapté à notre problème car il permet d'explorer efficacement un grand espace de recherche pour trouver des solutions potentiellement optimales. Pour notre problème, il peut y avoir un grand nombre de combinaisons possibles de routes, l'algorithme génétique permet donc de rechercher rapidement des solutions potentiellement proche de la solution optimale.\n",
    "\n",
    "Un algorithme génétique consiste à faire évoluer progressivement, par générations successives, la composition de cette population, en maintenant sa taille constante : d’une génération à la suivante. Plus on avance dans les générations, plus on est sensé améliorer la fonction objectif de notre problème. Un tel résultat est obtenu en mimant les deux principaux mécanismes qui régissent l’évolution des êtres vivants : la sélection naturelle (qui détermine quels membres d’une population survivent et se reproduisent) et la reproduction (qui assure le brassage et la recombinaison des gènes parentaux, pour former des descendants aux potentialités nouvelles).<br />\n",
    "Une génération est composée de $n$ individus\n",
    "\n",
    "Dans notre cas, un individu correspond aux chemins empruntés par les k camions.<br />\n",
    "Par exemple, si nous avons 3 camions qui livrent tous les client, l'individu sera décrit par les 3 chemins correspondant aux chemins des 3 camions."
   ]
  },
  {
   "attachments": {},
   "cell_type": "markdown",
   "metadata": {},
   "source": [
    "### Génération de la matrice\n",
    "Tout d'abord, nous devons générer une matrice connexe pondérée quelconque sur laquelle nous executerons notre algorithme génétique afin de trouver une solution convenable. Pour rappel, notre objectif est de faire en sorte que minimiser la date de retour du dernier camion au dépôt.\n",
    "Le nombre de villes de la matrice correspond à la variable $\\textit{num_villes}$.\n",
    "Voici le code permettant de générer la matrice:"
   ]
  },
  {
   "cell_type": "code",
   "execution_count": null,
   "metadata": {},
   "outputs": [],
   "source": [
    "import sys\n",
    "import random\n",
    "import numpy as np\n",
    "import matplotlib.pyplot as plt\n",
    "import heapq\n",
    "\n",
    "num_villes = 400\n",
    "\n",
    "def generate_weighted_adjacency_matrix(n):\n",
    "    # Générer une matrice d'adjacence vide\n",
    "    adjacency_matrix = [[0] * n for _ in range(n)]\n",
    "\n",
    "    # Générer des liens aléatoires\n",
    "    for i in range(n):\n",
    "        for j in range(i + 1, n):\n",
    "            if np.random.random() < 0.6:  # Probabilité de lien entre deux villes\n",
    "                weight = np.random.randint(1, 1000)  # Poids du lien entre deux villes\n",
    "                adjacency_matrix[i][j] = weight \n",
    "                adjacency_matrix[j][i] = weight\n",
    "                \n",
    "\n",
    "    return adjacency_matrix\n",
    "\n",
    "adj_matrix = generate_weighted_adjacency_matrix(num_villes)\n",
    "print(\"finished\")"
   ]
  },
  {
   "attachments": {},
   "cell_type": "markdown",
   "metadata": {},
   "source": [
    "### Algorithme de Dijkstra\n",
    "Avant de continuer plus loin dans l'implémentation de l'algorithme génétique, nous implémentons l'algorithme de Dijkstra. Cet algorithme permet de trouver le plus court chemin entre deux point dans un graphe connexe quelconque.<br />\n",
    "Il nous permettra de faire en sorte que nos camions reviennent au dépôt lors de la génération de solutions initiales et de réparer les chemins obtenus d'une génération à une autre."
   ]
  },
  {
   "cell_type": "code",
   "execution_count": null,
   "metadata": {},
   "outputs": [],
   "source": [
    "def dijkstra(adj_matrix, start_city, end_city):\n",
    "    num_cities = len(adj_matrix)\n",
    "    distances = [sys.maxsize] * num_cities\n",
    "    visited = [False] * num_cities\n",
    "    previous = [None] * num_cities\n",
    "\n",
    "    distances[start_city] = 0\n",
    "\n",
    "    for _ in range(num_cities):\n",
    "        min_dist = sys.maxsize\n",
    "        current_city = None\n",
    "\n",
    "        for city in range(num_cities):\n",
    "            if not visited[city] and distances[city] < min_dist:\n",
    "                min_dist = distances[city]\n",
    "                current_city = city\n",
    "\n",
    "        visited[current_city] = True\n",
    "\n",
    "        if current_city == end_city:\n",
    "            break\n",
    "\n",
    "        for neighbor in range(num_cities):\n",
    "            if (\n",
    "                not visited[neighbor]\n",
    "                and adj_matrix[current_city][neighbor] != 0\n",
    "                and distances[current_city] + adj_matrix[current_city][neighbor] < distances[neighbor]\n",
    "            ):\n",
    "                distances[neighbor] = distances[current_city] + adj_matrix[current_city][neighbor]\n",
    "                previous[neighbor] = current_city\n",
    "\n",
    "    if distances[end_city] == sys.maxsize:\n",
    "        return \"No path found.\"\n",
    "\n",
    "    path = []\n",
    "    current_city = end_city\n",
    "    while current_city is not None:\n",
    "        path.append(current_city)\n",
    "        current_city = previous[current_city]\n",
    "\n",
    "    path.reverse()\n",
    "    return path, distances[end_city]"
   ]
  },
  {
   "attachments": {},
   "cell_type": "markdown",
   "metadata": {},
   "source": [
    "### Solutions initiales\n",
    "\n",
    "Afin d'utiliser l'algorithme génétique, nous devons générer des solutions correctes intiales. En effet, l'objectif est de partir de solutions initiales correctes, d'y appliquer des opérateur algorithmiques (Sélection, Croisement, Mutation) dans le but de trouver une solution convenable, c'est-à-dire, assez proche de la solution optimale de tel sorte qu'on puisse la considérer comme optimale et donc viable. \n",
    "Le script ci-dessous permet de générer $\\textit{numValidSol}$ solutions valides (individus) en fonction d'un nombre $\\textit{NumTruck}$ de camions.\n",
    "\n",
    "Le script fonctionne de telle sorte : \n",
    " - A chaque ville, on regarde si il y a des villes valides encore non visitées. S'il y a des villes non visitées, on en choisit une au hasard parmit les villes non visitées et on s'y rend. Si toutes les villes voisines sont visitées, on en choisit une au hasard et on s'y rend dans le but de se rendre aux villes non visitées.\n",
    "\n",
    " - Une fois que toutes les villes ont été visités on utilise l'algorithme de Dijkstra pour que les camions reviennent au dépot avec le chemin le plus court possible.\n",
    "\n",
    "Pour chaque individu, on effectue ce script. La grande part d'aléatoire permet de générer des solutions variées et donc permet d'éviter de se bloquer dès le début dans un optimum local. "
   ]
  },
  {
   "cell_type": "code",
   "execution_count": null,
   "metadata": {},
   "outputs": [],
   "source": [
    "NumTruck = 3\n",
    "\n",
    "population = []\n",
    "truckJourneys = []\n",
    "visitedCities = []\n",
    "\n",
    "initCity = np.random.randint(1,num_villes)\n",
    "\n",
    "numValidSol = 12\n",
    "\n",
    "for n in range(numValidSol):\n",
    "    for i in range(NumTruck):\n",
    "        truckJourneys.append([initCity])\n",
    "    visitedCities.append(initCity)\n",
    "    print(\"Initial cities : \", truckJourneys)\n",
    "\n",
    "    while len(visitedCities) < num_villes:\n",
    "        for j in range(NumTruck):\n",
    "            curTruck = j\n",
    "            curCity = truckJourneys[curTruck][-1]\n",
    "            neighborsCurCity = adj_matrix[curCity]\n",
    "            CityFound = False\n",
    "            # Find the indexes of non-null values in neighborsCurCity\n",
    "            non_zero_indexes = np.nonzero(neighborsCurCity)[0]\n",
    "            # Filter out the indexes that are in visitedCities\n",
    "            non_zero_indices = np.setdiff1d(non_zero_indexes, visitedCities)\n",
    "            if np.isin(non_zero_indices, visitedCities).all():\n",
    "                non_zero_count = np.count_nonzero(neighborsCurCity)\n",
    "                probabilities = np.where(np.array(neighborsCurCity) == 0, 0, 1 / non_zero_count)\n",
    "                selectedCity = neighborsCurCity.index(np.random.choice(neighborsCurCity, p=probabilities))\n",
    "                truckJourneys[curTruck].append(selectedCity)\n",
    "            else:\n",
    "                size_non_zero_indices = len(non_zero_indices)\n",
    "                probabilities = np.zeros(len(neighborsCurCity))\n",
    "                probabilities[non_zero_indices] = 1 / size_non_zero_indices\n",
    "                probabilities[visitedCities] = 0            \n",
    "                selectedCity = neighborsCurCity.index(np.random.choice(neighborsCurCity, p=probabilities))\n",
    "                truckJourneys[curTruck].append(selectedCity)\n",
    "                visitedCities.append(selectedCity)\n",
    "\n",
    "    for j in range(len(truckJourneys)):\n",
    "        result = dijkstra(adj_matrix, truckJourneys[j][-1], truckJourneys[j][0])\n",
    "        path, distance = result\n",
    "        truckJourneys[j] = truckJourneys[j] + path[1:]\n",
    "    \n",
    "    population.append(truckJourneys)\n",
    "    \n",
    "    truckJourneys = []\n",
    "    visitedCities = []\n",
    "\n",
    "print(population)"
   ]
  },
  {
   "attachments": {},
   "cell_type": "markdown",
   "metadata": {},
   "source": [
    "Maintenant, nous sommes prêt pour notre algorithme génétique, nous pouvons commencer à implémenter l'algorithme génétiques.\n",
    "\n",
    "### Variables générales \n",
    "\n",
    "Nous commençons par initialiser les variables générales nécessaire pour notre algorithme génétique.\n",
    " - $\\textit{POPULATION_SIZE}$ correspond au nombre d'individus d'une population et donc au nombre d'individus initaux qu'on créé\n",
    " - $\\textit{NUM_GENERATIONS}$ correspond au nombre de générations que l'on va créé et donc au nombr ed'itérations du programme.\n",
    " - $\\textit{MUTATION_RATE}$ correspond au taux de mutation, cette variable est extrêmement importante. L'objectif est d'avoir le taux parfait de tel sorte à explorer les optiumum locaux suffisemment afin de savoir si c'est un optimum local ou un optimum que l'on peut considérer comme global. Un taux de mutation trop faible empêche que visiter tout les optimums locaux puisqu'il s'enferme dans un seul, un taux de mutation trop élevé empêche de trouver un optimum global car on ne s'intéresse à aucun optimum local. "
   ]
  },
  {
   "cell_type": "code",
   "execution_count": null,
   "metadata": {},
   "outputs": [],
   "source": [
    "# Constants\n",
    "POPULATION_SIZE = numValidSol\n",
    "NUM_GENERATIONS = 100\n",
    "MUTATION_RATE = 0.1"
   ]
  },
  {
   "attachments": {},
   "cell_type": "markdown",
   "metadata": {},
   "source": [
    "### Calcul de la distance\n",
    "\n",
    "Afin de pouvoir savoir quels sont les solutions qui minimisent au mieux la fonction objectif, nous devons être capable de mesurer les distances parcourues par les camions pour chaque individu.<br />\n",
    "La fonction $\\textit{calculate_fitness}$ s'occupe de mesurer la distance parcourue par chaque camion d'un individu et calcul la difference entre la valeur maximale et la valeur minimale.<br />\n",
    "Calculer la difference permet vérifier la condition initiale suivante : \"Minimiser la date de retour du dernier camion au dépôt\". On cherche donc à trouver la différence la plus petite possible. <br />\n",
    "En effet, si la différence vaut 0, cela veut dire que la charge de livraison est parfaitement répartie entre les camions et donc que le temps que met le dernier camion à revenir au dépôt est la plus petite possible (étant donné qu'il revient en même temps que le premier et tous les autres camions)"
   ]
  },
  {
   "cell_type": "code",
   "execution_count": null,
   "metadata": {},
   "outputs": [],
   "source": [
    "# Function to calculate the fitness of an individual\n",
    "def calculate_fitness(individual):\n",
    "    distances = [0] * len(individual)\n",
    "    for i, path in enumerate(individual):\n",
    "        path_distance = 0\n",
    "        for j in range(len(path) - 1):\n",
    "            start_city = path[j]\n",
    "            end_city = path[j + 1]\n",
    "            path_distance += adj_matrix[start_city][end_city]\n",
    "        distances[i] = path_distance\n",
    "    difference = max(distances) - min(distances)\n",
    "    return difference\n",
    "\n",
    "for individual in population:\n",
    "    fitness = calculate_fitness(individual)\n",
    "    print(fitness)"
   ]
  },
  {
   "attachments": {},
   "cell_type": "markdown",
   "metadata": {},
   "source": [
    "### Croisement\n",
    "\n",
    "Le croisement est une opération nécessaire dans l'algorithme génétique. Celui-ci a pour but de mélanger le chemin $i$ d'un individu avec le chemin $i$ d'un autre individu.<br />\n",
    "L'endroit de la séparation $\\textit{cut_point}$ est choisi aléatoirement.<br />\n",
    "Par exemple, si nous prenons comme $\\textit{parent1}$ un individu dont le chemin 1 passe par les villes $\\color{red}{3\\rightarrow1\\rightarrow4\\rightarrow5\\rightarrow2\\rightarrow6\\rightarrow3}$.<br />\n",
    "Et comme $\\textit{parent2}$ un autre individu dont le chemin 1 passe par les villes $\\color{blue}{3\\rightarrow5\\rightarrow8\\rightarrow9\\rightarrow7\\rightarrow2\\rightarrow3}$<br /> \n",
    "Et que l'endroit de la séparation $\\textit{cut_point} = 3$.<br />\n",
    "Le chemin 1 de l'enfant entre le parent1 et le parent2 vaudra : \n",
    "$\\color{red}{3\\rightarrow1\\rightarrow4}\\color{blue}{\\rightarrow9\\rightarrow7\\rightarrow2\\rightarrow3}$\n",
    "\n",
    "Bien sûr, il n'est pas assuré qu'il existe un lien direct entre la vile $4$ et la ville $9$. C'est pour cela que nous appliquons des réparations aux chemin afin d'avoir des chemins correctes. Nous expliquerons les réparations plus loin dans le document."
   ]
  },
  {
   "cell_type": "code",
   "execution_count": null,
   "metadata": {},
   "outputs": [],
   "source": [
    "# Function to perform crossover between two parents\n",
    "def crossover(parent1, parent2):\n",
    "    child = [[] for _ in range(len(parent1))]\n",
    "    for i in range(len(parent1)):\n",
    "        cut_point = np.random.randint(0, len(parent1[i]) - 1)\n",
    "        child[i] = parent1[i][:cut_point] + parent2[i][cut_point:]\n",
    "        child[i] = repair_non_neighboring_cities(child[i], cut_point)\n",
    "\n",
    "    child = repair_missing_cities(child)  # Repair the child to ensure it visits all cities\n",
    "    return child"
   ]
  },
  {
   "attachments": {},
   "cell_type": "markdown",
   "metadata": {},
   "source": [
    "### Mutation\n",
    "\n",
    "Comme expliquer précédemment, l'opérateur de mutation nous permet d'éviter d'être coincé dans un optimum local.\n",
    "\n",
    "Lorsqu'une mutation est effectuée, nous interchangeons la position entre deux villes choisies au hasard dans un chemin.<br />\n",
    "Par exemple, on reprend le chemin d'un individu utilisé plus haut : $\\color{red}{3\\rightarrow1\\rightarrow4\\rightarrow5\\rightarrow2\\rightarrow6\\rightarrow3}$.<br />\n",
    "On choisit $2$ indexes de la liste au hasard et on les interchange.<br />\n",
    "Si on obtient l'indexe $1$ et l'index $5$, le chemin muté sera : $\\color{red}{3\\rightarrow}\\color{green}{6}\\color{red}{\\rightarrow4\\rightarrow5\\rightarrow2\\rightarrow}\\color{green}{1}\\color{red}{\\rightarrow3}$\n",
    "\n",
    "Comme pour l'opérateur de croisement, il n'est pas assuré que les villes $3-6$, $6-4$, $2-1$ et $1-3$ soient reliés. Si elles ne le sont pas, nous devons apporter des réparation à notre chemin pour avoir un chemin correct.<br />"
   ]
  },
  {
   "cell_type": "code",
   "execution_count": null,
   "metadata": {},
   "outputs": [],
   "source": [
    "# Function to perform mutation on an individual\n",
    "def mutate(individual):\n",
    "    for i in range(len(individual)):\n",
    "        if np.random.random() < MUTATION_RATE:\n",
    "            swap_indices = random.sample(range(1, len(individual[i]) - 1), 2)\n",
    "            individual[i][swap_indices[0]], individual[i][swap_indices[1]] = \\\n",
    "                individual[i][swap_indices[1]], individual[i][swap_indices[0]]\n",
    "            for index in swap_indices:\n",
    "                repair_non_neighboring_cities(individual[i], index)\n",
    "                if index > 0:\n",
    "                    repair_non_neighboring_cities(individual[i], index-1)\n",
    "    return individual"
   ]
  },
  {
   "attachments": {},
   "cell_type": "markdown",
   "metadata": {},
   "source": [
    "### Réparation des erreurs\n",
    "\n",
    "Comme indiqué ci-dessus, lors des opérations de Croisement et de Mutation, il y a de fortes chances que deux villes soient indiquées comme voisines dans le chemin, hors elles ne le sont pas.<br />\n",
    "C'est pour cela que nous devons appliquer des réparations sur la chaine pour qu'elle soit correcte. \n",
    "Etant donné que nous savons où les erreurs peuvent être situées nous indiquons à la fonction les endroits où effectuer la vérification.<br />\n",
    "Dans le cas où les deux villes ne sont pas voisines, nous effectuons l'algorithme de Dijkstra afin de connaitre le chemin le plus court entre les deux villes, puis nous ajoutons ce chemin, qui lie les deux villes, entre les deux viles dans le chemin initial."
   ]
  },
  {
   "cell_type": "code",
   "execution_count": null,
   "metadata": {},
   "outputs": [],
   "source": [
    "def repair_non_neighboring_cities(path, index):\n",
    "    if index+1 <= len(path)-1:\n",
    "        city1 = path[index]\n",
    "        city2 = path[index+1]\n",
    "        if city1 == city2:\n",
    "            del path[index]\n",
    "        else:\n",
    "            adj_value = adj_matrix[city1][city2]\n",
    "            if adj_value == 0:\n",
    "                result = dijkstra(adj_matrix, city1, city2)\n",
    "                path_to_add, distance = result\n",
    "                path[index+1:index+1] = path_to_add[1:-1]\n",
    "    return path"
   ]
  },
  {
   "attachments": {},
   "cell_type": "markdown",
   "metadata": {},
   "source": [
    "De plus, il est possible qu'après les opérations de croisement, un individu se retrouve avec des villes manquantes. Or, nous devons absulment passer par par toutes les villes (livrer tous les clients), c'est pour cela que nous avons implémenter une autre fonction qui d'ocuupe de vérifier si toutes les villes sont visitées.<br />\n",
    "Si certaines villes sont manquantes, nous les ajoutons dans notre chemin de manière intelligente.<br />\n",
    "Tout d'abord, on cherche un emplacement où on pourrait insérer notre ville manquante, de telle sorte que la ville précédente et la ville suivantes soient des villes voisines à la ville manquante.<br />\n",
    "Si on ne trouve pas d'emplacement satisfaisant, on insère notre ville après une ville voisine et on effectue l'algorithme de Dijkstra avec la ville suivante, afin d'insérer le chemin le plus court entre la ville insérée et la ville suivante. "
   ]
  },
  {
   "cell_type": "code",
   "execution_count": null,
   "metadata": {},
   "outputs": [],
   "source": [
    "def repair_missing_cities(individual):\n",
    "    visited_cities = set(city for path in individual for city in path)\n",
    "    missing_cities = set(range(len(adj_matrix))) - visited_cities\n",
    "    while len(missing_cities) > 0:\n",
    "        missing_city = missing_cities.pop()\n",
    "        for path in individual:\n",
    "            for i in range(len(path)-1):\n",
    "                if adj_matrix[missing_city][i] != 0 and adj_matrix[missing_city][i+1] != 0:\n",
    "                    path.insert(i+1, missing_city)\n",
    "                    missing_city = -1\n",
    "                    break\n",
    "            if missing_city == -1:\n",
    "                break\n",
    "        if missing_city != -1:\n",
    "            neighborCities = [i for i, val in enumerate(adj_matrix[missing_city]) if val != 0 and i not in missing_cities]\n",
    "            neighborCity = np.random.choice(neighborCities)\n",
    "            for path in individual:\n",
    "                try:\n",
    "                    indexneighborCity = path.index(neighborCity)\n",
    "                    path.insert(indexneighborCity+1, missing_city)\n",
    "                    result = dijkstra(adj_matrix, indexneighborCity+1, indexneighborCity+2)\n",
    "                    path_to_add, distance = result\n",
    "                    index_to_add = indexneighborCity+2\n",
    "                    path[index_to_add:index_to_add] = path_to_add[1:-1]\n",
    "                except:\n",
    "                    pass\n",
    "    return individual"
   ]
  },
  {
   "attachments": {},
   "cell_type": "markdown",
   "metadata": {},
   "source": [
    "### Sélection et exécution de l'algorithme\n",
    "\n",
    "A présent, nous avons toutes les fonctions nécessaires pour exécuter notre algorithme génétique.<br />\n",
    "Nous commençons par afficher le meilleur individu dans la population actuelle.<br />\n",
    "Ensuite, on sélectionne $6$ individu parents dans la population pour faire $6$ individus enfants. Pour choisir les individus, nous choisissons $5$ individus dans la population parent puis nous sélectionnons l'individu qui minimise au plus la fonction objectif parmis ces $5$ individus.<br />\n",
    "Une fois la sélection effectuée, nous appliquons les opération de croisements et de mutations afin de créer une génération enfant.<br />\n",
    "Une fois la génération enfant créée, on garde uniquement les $12$ meilleurs individus de la génération parent et la génération enfant qui satisfaisent au plus la fonction objectif.<br />\n",
    "On effectue ces opérations $\\textit{NUM_GENERATIONS}$ fois, au bout des ces $\\textit{NUM_GENERATIONS}$ fois, on considère que la solution trouvée est optimale."
   ]
  },
  {
   "cell_type": "code",
   "execution_count": null,
   "metadata": {},
   "outputs": [],
   "source": [
    "# Main genetic algorithm loop\n",
    "for generation in range(NUM_GENERATIONS):\n",
    "    # Calculate fitness for each individual\n",
    "    fitness_scores = [calculate_fitness(individual) for individual in population]\n",
    "    \n",
    "    # Find the best individual in the population\n",
    "    best_fitness = min(fitness_scores)\n",
    "    best_individual = population[fitness_scores.index(best_fitness)]\n",
    "    \n",
    "    print(f\"Generation {generation + 1}: Best Distance = {best_fitness}\")\n",
    "    \n",
    "    # Select parents for crossover using tournament selection\n",
    "    parents = []\n",
    "    for _ in range(POPULATION_SIZE // 2):\n",
    "        tournament = random.sample(range(POPULATION_SIZE), 5)\n",
    "        tournament_fitness = [fitness_scores[i] for i in tournament]\n",
    "        winner = tournament[tournament_fitness.index(min(tournament_fitness))]\n",
    "        parents.append(population[winner])\n",
    "    \n",
    "    # Create new population through crossover and mutation\n",
    "    new_population = []\n",
    "    for i in range(0, len(parents), 2):\n",
    "        parent1 = parents[i]\n",
    "        parent2 = parents[i + 1]\n",
    "        child1 = crossover(parent1, parent2)\n",
    "        child2 = crossover(parent2, parent1)\n",
    "        new_population.extend([mutate(child1), mutate(child2)])\n",
    "        \n",
    "    population.extend(new_population)\n",
    "    fitness_scores.extend([calculate_fitness(individual) for individual in new_population])\n",
    "\n",
    "    \n",
    "    # Combine the elements of lists population and fitness_scores\n",
    "    combined = zip(population, fitness_scores)\n",
    "\n",
    "    # Sort the pairs based on the values in list fitness_scores\n",
    "    sorted_pairs = sorted(combined, key=lambda x: x[1])\n",
    "\n",
    "    # Extract the desired values\n",
    "    population = [pair[0] for pair in sorted_pairs[:POPULATION_SIZE]]\n",
    "    fitness_scores = [pair[1] for pair in sorted_pairs[:POPULATION_SIZE]]\n",
    "    \n",
    "    \n",
    "# Print the best solution\n",
    "best_fitness = min(fitness_scores)\n",
    "best_individual = population[fitness_scores.index(best_fitness)]\n",
    "print(f\"\\nBest Solution: {best_individual}\")\n",
    "print(f\"Best Distance: {best_fitness}\")"
   ]
  },
  {
   "attachments": {},
   "cell_type": "markdown",
   "metadata": {},
   "source": [
    "## Ant Colony Optimization"
   ]
  },
  {
   "cell_type": "code",
   "execution_count": 1,
   "metadata": {},
   "outputs": [
    {
     "name": "stdout",
     "output_type": "stream",
     "text": [
      "[[  0 354 159 ... 450 155 363]\n",
      " [354   0 287 ... 472  75   0]\n",
      " [159 287   0 ...   0 252  84]\n",
      " ...\n",
      " [450 472   0 ...   0   0 322]\n",
      " [155  75 252 ...   0   0   0]\n",
      " [363   0  84 ... 322   0   0]]\n"
     ]
    }
   ],
   "source": [
    "import numpy as np\n",
    "\n",
    "num_villes = 2500\n",
    "num_clients = num_villes - 1  # Exclure le dépôt\n",
    "\n",
    "def generate_weighted_adjacency_matrix(n):\n",
    "    adjacency_matrix = np.zeros((n, n), dtype=int)\n",
    "    for i in range(n):\n",
    "        for j in range(i + 1, n):\n",
    "            if np.random.random() < 0.8:\n",
    "                weight = np.random.randint(1, 500)\n",
    "                adjacency_matrix[i][j] = weight\n",
    "                adjacency_matrix[j][i] = weight\n",
    "    return adjacency_matrix\n",
    "\n",
    "matrice = generate_weighted_adjacency_matrix(num_villes)\n",
    "print(matrice)"
   ]
  },
  {
   "attachments": {},
   "cell_type": "markdown",
   "metadata": {},
   "source": [
    "### Paramètres de l'ACO"
   ]
  },
  {
   "cell_type": "code",
   "execution_count": 2,
   "metadata": {},
   "outputs": [],
   "source": [
    "# Paramètres de l'ACO\n",
    "num_fourmis = 3\n",
    "num_iterations = 40\n",
    "alpha = 1.0  # Influence de la phéromone\n",
    "beta = 5.0  # Influence de la visibilité   \n",
    "Q = 70  # Quantité de phéromone déposée par les fourmis\n",
    "intensite = 3.6 #intensification des pheromones\n",
    "num_camions = 3  # Quantité de camions"
   ]
  },
  {
   "attachments": {},
   "cell_type": "markdown",
   "metadata": {},
   "source": [
    "### Calculer Distance\n",
    "__*calculer_distance_total(solution, matrice)*__: Cette fonction calcule la distance totale parcourue dans une solution donnée. Elle prend en paramètre une solution (une séquence de villes) et une matrice de distances entre les villes. Elle renvoie la somme des distances entre chaque paire de villes consécutives dans la solution."
   ]
  },
  {
   "cell_type": "code",
   "execution_count": 1,
   "metadata": {},
   "outputs": [],
   "source": [
    "# Évaluer la qualité des solutions\n",
    "def calculer_distance_total(solution, matrice):\n",
    "    distances = matrice[solution[:-1], solution[1:]]\n",
    "    return np.sum(distances)"
   ]
  },
  {
   "attachments": {},
   "cell_type": "markdown",
   "metadata": {},
   "source": [
    "### Mise à jour des phéromones\n",
    "__*maj_pheromone(matrice_pheromone, routes, distances)*__: Cette fonction met à jour la matrice des phéromones en évaporant une partie des phéromones existantes et en déposant de nouvelles phéromones sur les meilleures routes. Elle prend en paramètre la matrice des phéromones, une liste de routes parcourues par les fourmis, et les distances correspondantes de chaque route. Elle utilise la formule Q/distance pour calculer la quantité de phéromones déposée sur chaque arête de la meilleure route."
   ]
  },
  {
   "cell_type": "code",
   "execution_count": 3,
   "metadata": {},
   "outputs": [],
   "source": [
    "def maj_pheromone(matrice_pheromone, routes, distances):\n",
    "    evaporation = 0.5\n",
    "\n",
    "    # Évaporation des phéromones   \n",
    "    matrice_pheromone *= (1 - evaporation)\n",
    "\n",
    "    # Dépôt de phéromones sur les meilleures routes\n",
    "    for route, distance in zip(routes, distances):\n",
    "        pheromones = Q / distance\n",
    "        matrice_pheromone[route[:-1], route[1:]] += pheromones"
   ]
  },
  {
   "attachments": {},
   "cell_type": "markdown",
   "metadata": {},
   "source": [
    "### Intensification des phéromones \n",
    "\n",
    "__*maj_pheromone_intensification(matrice_pheromone, routes_visitees, intensite)*__: Cette fonction met à jour la matrice des phéromones en intensifiant certaines arêtes spécifiques. Elle prend en paramètre la matrice des phéromones, une liste de routes parcourues par les fourmis et une intensité spécifique. Elle ajoute l'intensité aux arêtes parcourues dans chaque route."
   ]
  },
  {
   "cell_type": "code",
   "execution_count": 4,
   "metadata": {},
   "outputs": [],
   "source": [
    "def maj_pheromone_intensification(matrice_pheromone, routes_visitees, intensite):\n",
    "    for route in routes_visitees:\n",
    "        for i in range(len(route) - 1):\n",
    "            ville_actuelle = route[i]\n",
    "            ville_suivante = route[i + 1]\n",
    "            matrice_pheromone[ville_actuelle, ville_suivante] += intensite"
   ]
  },
  {
   "attachments": {},
   "cell_type": "markdown",
   "metadata": {},
   "source": [
    "### Sélectionner une ville \n",
    "\n",
    "__*selectionner_ville(matrice_pheromone, current_ville, ville_non_visitee, alpha, beta)*__: Cette fonction sélectionne la prochaine ville à visiter par une fourmi, en utilisant les niveaux de phéromones et les distances entre les villes. Elle prend en paramètre la matrice des phéromones, l'indice de la ville actuelle, une liste de villes non visitées, ainsi que les coefficients alpha et beta qui régulent l'influence de la phéromone et de la visibilité respectivement. La fonction calcule les probabilités de choisir chaque ville non visitée en fonction des niveaux de phéromones et des distances, puis utilise ces probabilités pour effectuer un choix pondéré aléatoire."
   ]
  },
  {
   "cell_type": "code",
   "execution_count": 5,
   "metadata": {},
   "outputs": [],
   "source": [
    "from numpy.random import choice as np_choice\n",
    "def selectionner_ville(matrice_pheromone, current_ville, ville_non_visitee, alpha, beta):\n",
    "\n",
    "    pheromone = matrice_pheromone[current_ville, ville_non_visitee]\n",
    "    \n",
    "    distance = matrice[current_ville, ville_non_visitee]\n",
    "    \n",
    "    proba = (pheromone ** alpha * (1.0 / distance) ** beta).astype(float)\n",
    "\n",
    "    proba[distance == 0] = 0  # Gérer les distances nulles\n",
    "    \n",
    "    total_proba = np.sum(proba)\n",
    "    if total_proba == 0:\n",
    "        proba = np.ones(len(proba)) / len(proba)\n",
    "    else:\n",
    "        proba /= total_proba\n",
    "\n",
    "    proba = np.maximum(proba, 0)\n",
    "\n",
    "    next_ville_index = np_choice(len(ville_non_visitee), p=proba)\n",
    "    next_ville = ville_non_visitee[next_ville_index]\n",
    "\n",
    "    return next_ville"
   ]
  },
  {
   "attachments": {},
   "cell_type": "markdown",
   "metadata": {},
   "source": [
    "### Boucle principale\n",
    "\n",
    "__*vrp(matrice, num_fourmis, num_iterations, alpha, beta)*__: Cette fonction implémente l'algorithme du VRP (Vehicle Routing Problem) en utilisant l'optimisation par colonies de fourmis (ACO). Elle prend en paramètre une matrice de distances entre les villes, le nombre de fourmis, le nombre d'itérations, ainsi que les coefficients alpha et beta. L'algorithme ACO est exécuté pendant un certain nombre d'itérations. À chaque itération, des fourmis construisent des solutions en choisissant les villes à visiter. Les meilleures solutions trouvées sont utilisées pour mettre à jour les niveaux de phéromones. La fonction renvoie la meilleure route et sa distance totale"
   ]
  },
  {
   "cell_type": "code",
   "execution_count": null,
   "metadata": {},
   "outputs": [],
   "source": [
    "def vrp(matrice, num_fourmis, num_iterations, alpha, beta):\n",
    "    num_ville = len(matrice)\n",
    "    matrice_pheromone = np.ones((num_ville, num_ville))  # Matrice des phéromones\n",
    "    best_route = None\n",
    "    best_distance = float('inf')\n",
    "\n",
    "    for i in range(num_iterations):\n",
    "        routes_visitees = []  # Routes visitées par les fourmis\n",
    "        routes = []\n",
    "        distances = []\n",
    "\n",
    "        for j in range(num_fourmis):\n",
    "            route = [0]  # Dépôt initial\n",
    "            ville_non_visitees = np.arange(1, num_ville)  # Villes non visitées\n",
    "            while ville_non_visitees.size > 0:\n",
    "                current_ville = route[-1]\n",
    "                next_ville = selectionner_ville(matrice_pheromone, current_ville, ville_non_visitees, alpha, beta)\n",
    "                route.append(next_ville)\n",
    "                ville_non_visitees = np.delete(ville_non_visitees, np.where(ville_non_visitees == next_ville))\n",
    "\n",
    "            route.append(0)  # Retour au dépôt\n",
    "            \n",
    "            if ville_non_visitees.size == 0 and route[-1] == 0:\n",
    "                distance = calculer_distance_total(route, matrice)\n",
    "                routes.append(route)\n",
    "                distances.append(distance)\n",
    "\n",
    "                if distance < best_distance:\n",
    "                    best_route = route\n",
    "                    best_distance = distance\n",
    "                    print(\"meilleure distance:\",best_distance)\n",
    "                \n",
    "                \n",
    "                routes_visitees.append(route)\n",
    "\n",
    "        maj_pheromone(matrice_pheromone, routes, distances)\n",
    "        maj_pheromone_intensification(matrice_pheromone, routes_visitees, intensite)  # Intensification de la matrice de phéromone\n",
    "\n",
    "    return best_route, best_distance"
   ]
  },
  {
   "attachments": {},
   "cell_type": "markdown",
   "metadata": {},
   "source": [
    "### Repartition des routes \n",
    "\n",
    "__*repartir_routes_optimal(route, num_camions)*__: Cette fonction répartit la meilleure route trouvée par l'algorithme du VRP en plusieurs routes optimales pour un certain nombre de camions. Elle prend en paramètre la meilleure route trouvée et le nombre de camions. La fonction calcule d'abord la distance totale de la route, puis la distance moyenne par camion. Ensuite, elle répartit les villes de la meilleure route en plusieurs routes pour les camions en s'assurant que chaque route ne dépasse pas la distance moyenne. Les routes obtenues et leurs longueurs respectives sont renvoyées."
   ]
  },
  {
   "cell_type": "code",
   "execution_count": null,
   "metadata": {},
   "outputs": [],
   "source": [
    "# On répartit entre le nombre de camions\n",
    "def repartir_routes_optimal(route, num_camions):\n",
    "    villes = route[1:-1]  # Liste des villes à répartir (excluant le dépôt)\n",
    "    num_villes = len(villes)\n",
    "\n",
    "    # Calcul de la distance totale de la route\n",
    "    distance_totale = calculer_distance_total(route, matrice)\n",
    "\n",
    "    # Calcul de la distance moyenne par camion\n",
    "    distance_moyenne = distance_totale / num_camions\n",
    "\n",
    "    camions_routes = []\n",
    "    longueurs_routes = []\n",
    "\n",
    "    camion_route = [0]  # Dépôt initial\n",
    "    longueur_route = 0\n",
    "\n",
    "    for i in range(num_villes):\n",
    "        ville = villes[i]\n",
    "        ville_suivante = villes[i + 1] if i < num_villes - 1 else 0  # Prochaine ville ou retour au dépôt\n",
    "\n",
    "        # Ajout de la ville à la route actuelle\n",
    "        camion_route.append(ville)\n",
    "        longueur_route += matrice[ville][ville_suivante]\n",
    "\n",
    "        # Si la longueur de la route actuelle dépasse la distance moyenne, on la termine et on commence une nouvelle route\n",
    "        if longueur_route > distance_moyenne:\n",
    "            camion_route.append(0)  # Retour au dépôt\n",
    "            camions_routes.append(camion_route)\n",
    "            longueurs_routes.append(longueur_route)\n",
    "\n",
    "            camion_route = [0]  # Nouvelle route avec le dépôt initial\n",
    "            longueur_route = 0\n",
    "\n",
    "    # Ajout de la dernière route incomplète\n",
    "    camion_route.append(0)  # Retour au dépôt\n",
    "    camions_routes.append(camion_route)\n",
    "    longueurs_routes.append(longueur_route)\n",
    "\n",
    "    return camions_routes, longueurs_routes"
   ]
  },
  {
   "attachments": {},
   "cell_type": "markdown",
   "metadata": {},
   "source": [
    "### Lancement de l'ACO"
   ]
  },
  {
   "cell_type": "code",
   "execution_count": null,
   "metadata": {},
   "outputs": [],
   "source": [
    "import numpy as np\n",
    "import warnings\n",
    "warnings.filterwarnings(\"ignore\")\n",
    "\n",
    "best_route, best_distance = vrp(matrice, num_fourmis, num_iterations, alpha, beta)\n",
    "camions_routes, longueurs_routes = repartir_routes_optimal(best_route, num_camions)\n",
    "\n",
    "print(\"|-----------------Meilleur Global-----------------|\")\n",
    "print(\"Meilleure route:\", best_route)\n",
    "print(\"Distance totale:\", best_distance)\n",
    "print(\" \")\n",
    "print(\"|---------------Meilleur par camion---------------|\")\n",
    "print(\" \")\n",
    "\n",
    "# Affichage des routes assignées à chaque camion et de la longueur totale de chaque route\n",
    "for i, route in enumerate(camions_routes):\n",
    "    print(f\"|------------------------{i+1}------------------------|\")\n",
    "    print(f\"Camion {i+1} - Route : {route} \")\n",
    "    print(f\"Distance totale : {longueurs_routes[i]}\")"
   ]
  }
 ],
 "metadata": {
  "kernelspec": {
   "display_name": "Python 3",
   "language": "python",
   "name": "python3"
  },
  "language_info": {
   "codemirror_mode": {
    "name": "ipython",
    "version": 3
   },
   "file_extension": ".py",
   "mimetype": "text/x-python",
   "name": "python",
   "nbconvert_exporter": "python",
   "pygments_lexer": "ipython3",
   "version": "3.11.3"
  }
 },
 "nbformat": 4,
 "nbformat_minor": 4
}
