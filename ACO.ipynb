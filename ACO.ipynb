{
 "cells": [
  {
   "cell_type": "code",
   "execution_count": null,
   "metadata": {},
   "outputs": [],
   "source": [
    "import random\n",
    "import matplotlib.pyplot as plt\n",
    "\n",
    "num_villes=50\n",
    "def generate_weighted_adjacency_matrix(n):\n",
    "    # Générer une matrice d'adjacence vide\n",
    "    adjacency_matrix = [[0] * n for _ in range(n)]\n",
    "\n",
    "    # Générer des liens aléatoires\n",
    "    for i in range(n):\n",
    "        for j in range(i + 1, n):\n",
    "            if random.random() < 0.6:  # Probabilité de lien entre deux villes\n",
    "                weight = random.randint(1, 1000)  # Poids du lien entre deux villes\n",
    "                adjacency_matrix[i][j] = weight \n",
    "                adjacency_matrix[j][i] = weight\n",
    "                \n",
    "\n",
    "    return adjacency_matrix\n",
    "\n",
    "adj_matrix = generate_weighted_adjacency_matrix(num_villes)\n",
    "\n",
    "\n",
    "num_clients = num_villes - 1  # Exclure le dépôt"
   ]
  },
  {
   "cell_type": "code",
   "execution_count": null,
   "metadata": {},
   "outputs": [],
   "source": [
    "Entrée = adj_matrix # matrice d'adjacence\n",
    "\n",
    "initialiser la matrice des pheromones \n",
    "\n",
    "selectionner le prochain noeud : city_to_city_score = pheromone ** alpha * (1.0 / distance) ** beta\n",
    "#alpha et beta agissent comme des poids sur les pheromones\n",
    "\n",
    "#proba d'une fourmi d'aller sur un point est de : \n",
    "prob_of_going_to_city(i) = city_to_city_score(i) / sum_of_all_available_city_to_city_scores\n"
   ]
  },
  {
   "cell_type": "code",
   "execution_count": null,
   "metadata": {},
   "outputs": [],
   "source": []
  }
 ],
 "metadata": {
  "kernelspec": {
   "display_name": "Python 3",
   "language": "python",
   "name": "python3"
  },
  "language_info": {
   "codemirror_mode": {
    "name": "ipython",
    "version": 3
   },
   "file_extension": ".py",
   "mimetype": "text/x-python",
   "name": "python",
   "nbconvert_exporter": "python",
   "pygments_lexer": "ipython3",
   "version": "3.11.3"
  },
  "orig_nbformat": 4
 },
 "nbformat": 4,
 "nbformat_minor": 2
}
