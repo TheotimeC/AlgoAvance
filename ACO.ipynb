{
 "cells": [
  {
   "cell_type": "code",
   "execution_count": 30,
   "metadata": {},
   "outputs": [
    {
     "name": "stdout",
     "output_type": "stream",
     "text": [
      "[[0, 1, 498, 107, 65, 178, 256, 0, 0, 0], [1, 0, 205, 616, 0, 512, 989, 26, 524, 0], [498, 205, 0, 925, 66, 0, 903, 854, 759, 0], [107, 616, 925, 0, 869, 0, 0, 674, 915, 932], [65, 0, 66, 869, 0, 649, 906, 57, 0, 594], [178, 512, 0, 0, 649, 0, 509, 0, 0, 658], [256, 989, 903, 0, 906, 509, 0, 648, 0, 0], [0, 26, 854, 674, 57, 0, 648, 0, 0, 205], [0, 524, 759, 915, 0, 0, 0, 0, 0, 795], [0, 0, 0, 932, 594, 658, 0, 205, 795, 0]]\n"
     ]
    }
   ],
   "source": [
    "import random\n",
    "import matplotlib.pyplot as plt\n",
    "import numpy as np\n",
    "\n",
    "num_villes=10\n",
    "num_clients = num_villes - 1  # Exclure le dépôt\n",
    "\n",
    "def generate_weighted_adjacency_matrix(n):\n",
    "    # Générer une matrice d'adjacence vide\n",
    "    adjacency_matrix = [[0] * n for _ in range(n)]\n",
    "\n",
    "    # Générer des liens aléatoires\n",
    "    for i in range(n):\n",
    "        for j in range(i + 1, n):\n",
    "            if random.random() < 0.6:  # Probabilité de lien entre deux villes\n",
    "                weight = random.randint(1, 1000)  # Poids du lien entre deux villes\n",
    "                adjacency_matrix[i][j] = weight \n",
    "                adjacency_matrix[j][i] = weight\n",
    "                \n",
    "\n",
    "    return adjacency_matrix\n",
    "\n",
    "matrice = generate_weighted_adjacency_matrix(num_villes)\n",
    "print(matrice)\n"
   ]
  },
  {
   "cell_type": "code",
   "execution_count": null,
   "metadata": {},
   "outputs": [],
   "source": [
    "import random\n",
    "import numpy as np\n",
    "from numpy.random import choice as np_choice\n",
    "\n",
    "#évaluer la quali des solutions\n",
    "def calculer_distance_total(solution, matrice):\n",
    "    longueur = 0\n",
    "    for route in solution:\n",
    "        for i in range(len(solution)-1):\n",
    "            current_ville = route[i]\n",
    "            next_ville = route[i+1]\n",
    "            longueur += matrice[current_ville][next_ville]\n",
    "    return longueur\n",
    "\n",
    "def maj_pheromone(matrice_pheromone, routes, distances):\n",
    "    evaporation = 0.5\n",
    "    pheromone_depose = 100\n",
    "\n",
    "    ville = matrice_pheromone.shape[0]\n",
    "\n",
    "    #evaporation des pheromones   \n",
    "    matrice_pheromone *= (1-evaporation)\n",
    "\n",
    "    # Dépôt de phéromones sur les meilleures routes\n",
    "    for i in range(len(routes)):\n",
    "        route = routes[i]\n",
    "        distance = distances[i]\n",
    "        for j in range(len(route) - 1):\n",
    "            ville1 = route[j]\n",
    "            ville2 = route[j + 1]\n",
    "            matrice_pheromone[ville1][ville2] += matrice_pheromone / distance\n",
    "\n",
    "def selectionner_ville(matrice_pheromone, current_ville, ville_non_visitee, alpha, beta):\n",
    "    proba=[]\n",
    "\n",
    "    for ville in ville_non_visitee:\n",
    "        pheromone = matrice_pheromone[current_ville][ville]\n",
    "        distance = matrice[current_ville][ville]\n",
    "\n",
    "        proba.append(pheromone ** alpha (1.0/distance)**beta )\n",
    "\n",
    "    total_proba = sum(proba)\n",
    "    proba = [p/total_proba for p in proba]\n",
    "    next_ville = random.choice(ville_non_visitee, proba)[0]\n",
    "\n",
    "    return next_ville\n",
    "\n",
    "\n",
    "# Paramètres de l'ACO\n",
    "num_fourmis = 10\n",
    "num_iterations = 100\n",
    "alpha = 1.0  # Influence de la phéromone\n",
    "beta = 5.0  # Influence de la visibilité\n",
    "rho = 0.5  # Taux d'évaporation de la phéromone\n",
    "Q = 100  # Quantité de phéromone déposée par les fourmis"
   ]
  }
 ],
 "metadata": {
  "kernelspec": {
   "display_name": "Python 3",
   "language": "python",
   "name": "python3"
  },
  "language_info": {
   "codemirror_mode": {
    "name": "ipython",
    "version": 3
   },
   "file_extension": ".py",
   "mimetype": "text/x-python",
   "name": "python",
   "nbconvert_exporter": "python",
   "pygments_lexer": "ipython3",
   "version": "3.11.3"
  },
  "orig_nbformat": 4
 },
 "nbformat": 4,
 "nbformat_minor": 2
}
